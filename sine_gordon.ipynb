{
 "cells": [
  {
   "cell_type": "code",
   "execution_count": 1,
   "metadata": {},
   "outputs": [],
   "source": [
    "import time\n",
    "import copy as cp\n",
    "\n",
    "import numpy as np\n",
    "from numba import jit, njit\n",
    "PI = np.pi\n",
    "\n",
    "import matplotlib.pyplot as plt\n",
    "from mpl_toolkits.mplot3d import Axes3D  \n",
    "plt.rcParams['image.cmap']='cool'  ## set a global cmap: 'cool' ,   'twilight_shifted', 'hsv', 'jet'\n",
    "cmap = 'cool'\n",
    "alpha = 0.9\n"
   ]
  },
  {
   "cell_type": "markdown",
   "metadata": {},
   "source": [
    "## Partial differential equations - wave-type equations\n",
    "\n",
    "Scheme: \n",
    "1. Discretize the spatial dimention: $u_n=u(x_n,t)$  (for example $x_n=nh$) \n",
    "\n",
    "2. write a system of $N$ second order (or $2N$ first order) time differential equations:\n",
    "$$\\partial_{tt}u_n=D_{nm}u_m-F_n$$\n",
    "\n",
    "\n",
    "* write a system of $𝑁$ second order equations:\n",
    "\n",
    "    $$ u_n''\\approx \\frac{u_{n-1}-2u_n+u_{n+1}}{h^2}$$\n",
    "\n",
    "    $$D_{n,m} = \\delta_{n-1, m}- 2\\delta_{n, m} +\\delta_{n+1, m}, \\qquad n,m = 0,1,2,3,..., N-1$$\n",
    "    \n",
    "\n",
    "* write a system of $2 𝑁$ first order equations:\n",
    "\n",
    "$$ \\vec{v}=(u, \\partial_x u)$$\n",
    "\n",
    "$$ \\partial_x \\vec{v}=(\\partial_x u, \\partial_{xx} u)$$\n",
    "\n",
    "$$ u'_n=\\frac{u_{n+1}-u_{n-1}}{2h}$$\n",
    "\n",
    "$$D_{n,m} = ? , \\qquad n,m = 0,1,2,3,..., 2N-1$$\n",
    "\n",
    "\n",
    "3. use some time-stepping method to solve the system for given initial conditions $u(x, 0), \\partial_t u(x, 0)$ and boundary conditions, such as $u(0,t)=f(x)$ and $u(L,t)=g(x)$.\n",
    "* Runge-Kutta method\n",
    "* simplectic method\n",
    "\n",
    "4. Important issue: stability.\n",
    "\n",
    "For explicit methods time step must be adjusted to the highest eigenvalue of $D_{nm}$\n",
    "(a saw-type function).\n",
    "$\\lambda \\approx (dx)^{−2}$\n",
    "\n",
    "\n",
    "\n",
    "\n",
    "#### to delete!\n",
    "$$ \\left(\\begin{array}{cc} 0  \\\\ u'' \\end{array} \\right) = \\left(\\begin{array}{cc} 0 & 0 \\\\ 0 & 1 \\end{array} \\right) \\cdot \\left(\\begin{array}{cc} u' \\\\ u'' \\end{array} \\right) $$\n"
   ]
  },
  {
   "cell_type": "markdown",
   "metadata": {},
   "source": [
    "## sine-Gordon model:\n",
    "\n",
    "$$ \\partial_{tt}u = \\partial_{xx}u - \\sin(u)$$\n",
    "\n",
    "1. initial conditions:\n",
    "\n",
    "* $u(x, 0) = 0 \\qquad (position)$\n",
    "\n",
    "* $\\partial_t u(x, 0) =  \\left\\{\\begin{array}{rcl} 1  \\qquad for \\qquad x = 0 \\\\ 0  \\qquad for \\qquad x>0 \\end{array} \\right. \\qquad (velocity)$\n",
    "\n",
    "2. boundary conditions:\n",
    "\n",
    "* $u(0, t) = \\sin( \\omega t) \\qquad $\n",
    "\n",
    "* $u(L, t) = -\\sin( \\omega t) \\qquad $\n"
   ]
  },
  {
   "cell_type": "markdown",
   "metadata": {},
   "source": [
    "### Implementation:\n",
    "\n",
    "1. spatial dimention discretization:\n",
    "\n",
    "* $ x_n = n\\cdot h \\qquad n=0,1,2,3,...,N-1$\n",
    "\n",
    "* $ u_n(t) = u(t, x_n)$\n",
    "\n",
    "\n",
    "\n",
    "2. discretized initial conditions:\n",
    "\n",
    "* $u_n(0) = 0 \\qquad (position)$\n",
    "\n",
    "* $\\partial_t u_n(0) =  \\left\\{\\begin{array}{rcl} 1  \\qquad for \\qquad n = 0 \\\\ 0  \\qquad for \\qquad n>0 \\end{array} \\right. \\qquad (velocity)$\n",
    "\n",
    "\n",
    "\n",
    "\n",
    "3. discretized boundary conditions:\n",
    "\n",
    "* $u_0(t) = \\sin( \\omega t) \\qquad $\n",
    "\n",
    "* $u_{N-1}(t) = -\\sin( \\omega t) \\qquad $\n",
    "\n",
    "\n",
    "\n",
    "\n",
    "\n",
    "\n",
    "4. write a system of $𝑁$ second order equations:\n",
    "\n",
    "$$ u_n''\\approx \\frac{u_{n-1}-2u_n+u_{n+1}}{h^2}$$\n",
    "\n",
    "$$D_{n,m} = \\delta_{n-1, m}- 2\\delta_{n, m} +\\delta_{n+1, m}$$\n",
    "\n",
    "$$ \\partial_{tt}u =  \\frac{u_{n-1}-2u_n+u_{n+1}}{h^2} - \\sin(u_n) = D_{n,m}u_m - sin(u_n)$$\n",
    "\n",
    "where:\n",
    "$$D_{n,m} = \\delta_{n-1, m}- 2\\delta_{n, m} +\\delta_{n+1, m}, \\qquad n,m = 0,1,2,3,..., N-1$$\n",
    "\n"
   ]
  },
  {
   "cell_type": "code",
   "execution_count": null,
   "metadata": {},
   "outputs": [],
   "source": []
  },
  {
   "cell_type": "code",
   "execution_count": 10,
   "metadata": {},
   "outputs": [],
   "source": [
    "def get_D_second_order(x):\n",
    "    \n",
    "    '''\n",
    "        𝐷𝑛,𝑚 = 𝛿𝑛−1,𝑚 − 2𝛿𝑛,𝑚 + 𝛿𝑛+1,𝑚\n",
    "        No boundary conditions included\n",
    "        \n",
    "    '''\n",
    "    N = len(x)\n",
    "    D = np.diagflat( np.ones(N) * (-2))\n",
    "    \n",
    "    for i in range(1,N-1):\n",
    "        D[i][i+1] = 1\n",
    "        D[i][i-1] = 1\n",
    "    \n",
    "    return D"
   ]
  },
  {
   "cell_type": "code",
   "execution_count": 11,
   "metadata": {},
   "outputs": [
    {
     "data": {
      "text/plain": [
       "<matplotlib.image.AxesImage at 0x7f2805c71220>"
      ]
     },
     "execution_count": 11,
     "metadata": {},
     "output_type": "execute_result"
    },
    {
     "data": {
      "image/png": "[encoded data removed]",
      "text/plain": [
       "<Figure size 288x288 with 1 Axes>"
      ]
     },
     "metadata": {
      "needs_background": "light"
     },
     "output_type": "display_data"
    }
   ],
   "source": [
    "n = 5\n",
    "xx = np.linspace(0, 4*PI, n)\n",
    "\n",
    "dx = xx[1] - xx[0]\n",
    "\n",
    "D = get_D_second_order(xx)\n",
    "\n",
    "plt.matshow(D, cmap='bwr', vmin=-4, vmax=4) "
   ]
  },
  {
   "cell_type": "code",
   "execution_count": null,
   "metadata": {},
   "outputs": [],
   "source": []
  }
 ],
 "metadata": {
  "kernelspec": {
   "display_name": "Python 3",
   "language": "python",
   "name": "python3"
  },
  "language_info": {
   "codemirror_mode": {
    "name": "ipython",
    "version": 3
   },
   "file_extension": ".py",
   "mimetype": "text/x-python",
   "name": "python",
   "nbconvert_exporter": "python",
   "pygments_lexer": "ipython3",
   "version": "3.8.5"
  }
 },
 "nbformat": 4,
 "nbformat_minor": 4
}
