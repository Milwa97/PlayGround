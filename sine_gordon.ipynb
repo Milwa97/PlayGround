{
 "cells": [
  {
   "cell_type": "code",
   "execution_count": null,
   "metadata": {},
   "outputs": [],
   "source": [
    "import time\n",
    "import copy as cp\n",
    "\n",
    "import numpy as np\n",
    "from numba import jit, njit\n",
    "PI = np.pi\n",
    "\n",
    "import matplotlib.pyplot as plt\n",
    "from mpl_toolkits.mplot3d import Axes3D  \n",
    "plt.rcParams['image.cmap']='cool'  ## set a global cmap: 'cool' ,   'twilight_shifted', 'hsv', 'jet'\n",
    "cmap = 'cool'\n",
    "alpha = 0.9\n"
   ]
  },
  {
   "cell_type": "code",
   "execution_count": null,
   "metadata": {},
   "outputs": [],
   "source": [
    "def plot_2D(f, x_label = '$t$', y_label = '$x$', title='$f(x,y)$'):\n",
    "    \n",
    "    fig, ax = plt.subplots(figsize = (8, 8))\n",
    "    ax.imshow(f, cmap='cool', origin='lower')\n",
    "    ax.set_xlabel(x_label, fontsize=15);\n",
    "    ax.set_ylabel(y_label, fontsize=15);\n",
    "    ax.set_title(title, fontsize = 20) ;\n",
    "    plt.show()\n",
    "\n",
    "\n",
    "def plot_3D(x,y,z, x_label = '$t$', y_label ='$x$', z_label = '$u$', title='$u(t,x)$', elev=15., azim=0):  \n",
    "    \n",
    "    fig = plt.figure( figsize = (10, 12))\n",
    "    ax = fig.add_subplot(111, projection='3d')\n",
    "    ax.plot_surface(x, y, z, cmap = cmap, alpha = alpha)\n",
    "    ax.set_xlabel(x_label, fontsize=15);\n",
    "    ax.set_ylabel(y_label, fontsize=15);\n",
    "    ax.set_zlabel(z_label, fontsize=15);\n",
    "    ax.set_title(title, fontsize = 20);\n",
    "    ax.view_init(elev=elev, azim=azim)\n",
    "        \n",
    "    plt.show()\n",
    "    \n",
    "    \n",
    "\n",
    "    \n",
    "    \n",
    "def plot_3D_animation(x,y,z, x_label = '$t$', y_label ='$x$', z_label = '$u$', title='$u(t,x)$'):  \n",
    "       \n",
    "    fig = plt.figure( figsize = (10, 12))\n",
    "    ax = fig.add_subplot(111, projection='3d')\n",
    "    ax.plot_surface(x, y, z, cmap = cmap, alpha = alpha)\n",
    "    ax.set_xlabel(x_label, fontsize=15);\n",
    "    ax.set_ylabel(y_label, fontsize=15);\n",
    "    ax.set_zlabel(z_label, fontsize=15);\n",
    "    ax.set_title(title, fontsize = 20);\n",
    "    ax.axis('off')\n",
    "   \n",
    "    ## For animation: rotation \n",
    "    for ii in range(0, 360, 5):\n",
    "        ax.view_init(elev=15., azim=ii)\n",
    "        fig.savefig(\"test_%d.png\" % ii)"
   ]
  },
  {
   "cell_type": "code",
   "execution_count": null,
   "metadata": {},
   "outputs": [],
   "source": []
  },
  {
   "cell_type": "markdown",
   "metadata": {},
   "source": [
    "## Partial differential equations - wave-type equations\n",
    "\n",
    "Scheme: \n",
    "1. Discretize the spatial dimention: $u_n=u(x_n,t)$  (for example $x_n=nh$) \n",
    "\n",
    "2. write a system of $N$ second order (or $2N$ first order) time differential equations:\n",
    "$$\\partial_{tt}u_n=D_{nm}u_m-F_n$$\n",
    "\n",
    "\n",
    "* write a system of $𝑁$ second order equations:\n",
    "\n",
    "    $$ u_n''\\approx \\frac{u_{n-1}-2u_n+u_{n+1}}{h^2}$$\n",
    "\n",
    "    $$D_{n,m} = \\delta_{n-1, m}- 2\\delta_{n, m} +\\delta_{n+1, m}  \\cdot \\frac{1}{dx^2}, \\qquad n,m = 0,1,2,3,..., N-1$$\n",
    "    \n",
    "\n",
    "* write a system of $2 𝑁$ first order equations:\n",
    "\n",
    "$$ \\vec{v}=(u, \\partial_x u)$$\n",
    "\n",
    "$$ \\partial_x \\vec{v}=(\\partial_x u, \\partial_{xx} u)$$\n",
    "\n",
    "$$ u'_n=\\frac{u_{n+1}-u_{n-1}}{2h}$$\n",
    "\n",
    "$$D_{n,m} = ? , \\qquad n,m = 0,1,2,3,..., 2N-1$$\n",
    "\n",
    "\n",
    "3. use some time-stepping method to solve the system for given initial conditions $u(x, 0), \\partial_t u(x, 0)$ and boundary conditions, such as $u(0,t)=f(x)$ and $u(L,t)=g(x)$.\n",
    "* Runge-Kutta method\n",
    "* simplectic method\n",
    "\n",
    "4. Important issue: stability.\n",
    "\n",
    "For explicit methods time step must be adjusted to the highest eigenvalue of $D_{nm}$\n",
    "(a saw-type function).\n",
    "$\\lambda \\approx (dx)^{−2}$"
   ]
  },
  {
   "cell_type": "markdown",
   "metadata": {},
   "source": [
    "## sine-Gordon model:\n",
    "\n",
    "$$ \\partial_{tt}u = \\partial_{xx}u - \\sin(u)$$\n",
    "\n",
    "1. initial conditions:\n",
    "\n",
    "* $u(x, 0) = 0 \\qquad (position)$\n",
    "\n",
    "* $\\partial_t u(x, 0) =  \\left\\{\\begin{array}{rcl} \\omega  \\qquad for \\qquad x = 0 \\\\ 0  \\qquad for \\qquad x>0 \\end{array} \\right. \\qquad (velocity)$\n",
    "\n",
    "2. boundary conditions:\n",
    "\n",
    "* $u(0, t) = \\sin( \\omega t) \\qquad $\n",
    "\n",
    "* $u(L, t) = -\\sin( \\omega t) \\qquad $\n",
    "\n",
    "(sth like a bunch of pendulums on a straight line, with the first and last pendulum rotating)"
   ]
  },
  {
   "cell_type": "markdown",
   "metadata": {},
   "source": [
    "### Implementation:\n",
    "\n",
    "1. spatial dimention discretization:\n",
    "\n",
    "* $ x_n = n\\cdot h \\qquad n=0,1,2,3,...,N-1$\n",
    "\n",
    "* $ u_n(t) = u(t, x_n)$\n",
    "\n",
    "\n",
    "\n",
    "2. discretized initial conditions:\n",
    "\n",
    "* $u_n(0) = 0 \\qquad (position)$\n",
    "\n",
    "* $\\partial_t u_n(0) =  \\left\\{\\begin{array}{rcl} \\omega  \\qquad for \\qquad n = 0 \\\\ 0  \\qquad for \\qquad n>0 \\end{array} \\right. \\qquad (velocity)$\n",
    "\n",
    "\n",
    "\n",
    "\n",
    "3. discretized boundary conditions:\n",
    "\n",
    "* $u_0(t) = \\sin( \\omega t) \\qquad $\n",
    "\n",
    "* $u_{N-1}(t) = -\\sin( \\omega t) \\qquad $\n",
    "\n",
    "\n",
    "\n",
    "\n",
    "4. write a system of $𝑁$ second order equations:\n",
    "\n",
    "$$ u_n''\\approx \\frac{u_{n-1}-2u_n+u_{n+1}}{h^2}$$\n",
    "\n",
    "$$D_{n,m} = \\delta_{n-1, m}- 2\\delta_{n, m} +\\delta_{n+1, m}$$\n",
    "\n",
    "$$ \\partial_{tt}u_n =  \\frac{u_{n-1}-2u_n+u_{n+1}}{h^2} - \\sin(u_n) = D_{n,m}u_m - sin(u_n)$$\n",
    "\n",
    "where:\n",
    "$$D_{n,m} = \\delta_{n-1, m}- 2\\delta_{n, m} +\\delta_{n+1, m}, \\qquad n,m = 0,1,2,3,..., Nx$$\n",
    "\n",
    "5. \n",
    "* $n,m = 0,1,2,3,..Nx$ - indexing of spatial coordinates\n",
    "* $i,j = 0,1,2,3,..Nt$ - indexing of temporal coordinates\n"
   ]
  },
  {
   "cell_type": "code",
   "execution_count": null,
   "metadata": {},
   "outputs": [],
   "source": [
    "def get_D_second_order(N):\n",
    "    \n",
    "    '''\n",
    "        𝐷𝑛,𝑚 = 𝛿𝑛−1,𝑚 − 2𝛿𝑛,𝑚 + 𝛿𝑛+1,𝑚\n",
    "        No boundary conditions included\n",
    "        \n",
    "    '''\n",
    "    D = np.diagflat( np.ones(N) * (-2))\n",
    "    \n",
    "    for i in range(1,N-1):\n",
    "        D[i][i+1] = 1\n",
    "        D[i][i-1] = 1\n",
    "    \n",
    "    return D"
   ]
  },
  {
   "cell_type": "markdown",
   "metadata": {},
   "source": [
    "### simplectic method:\n",
    "$$ \\partial_t u^i = v^i $$\n",
    "$$ \\partial_{tt} u^i = \\partial_t v^i = G(u^i)$$\n",
    "\n",
    "multistep:\n",
    "$$ u^{i+1/2} = u^i + \\frac12 v^i dt = k^i $$\n",
    "$$ v^{i+1} = v^i + G\\left(u_{i+1/2}\\right) dt $$\n",
    "$$ u^{i+1} = u^{i+1/2}+\\frac12 v^i dt $$\n",
    "\n",
    "In our case this is:\n",
    "\n",
    "$$ G(u^i) =  G(u^i_n) = D_{n,m}u_m - \\sin(u_n) $$\n",
    "\n",
    "$$ u^{i+1/2}_n = u^i_n + \\frac12 v^i_n \\cdot dt = k^i_m $$\n",
    "\n",
    "$$ v^{i+1}_n = v^i_n + G\\left(u^{i+1/2}_n\\right) \\cdot dt $$\n",
    "\n",
    "$$ u^{i+1}_n = u^{i+1/2}_n +\\frac12 v^i_n \\cdot dt $$"
   ]
  },
  {
   "cell_type": "code",
   "execution_count": null,
   "metadata": {},
   "outputs": [],
   "source": [
    "Nx= 20   ##(50, 40000)\n",
    "Nt = 10000\n",
    "\n",
    "T = 1\n",
    "L = 1\n",
    "\n",
    "ω = 0.1\n",
    "\n",
    "xx = np.linspace(0, L, Nx+1)\n",
    "tt = np.linspace(0, T, Nt+1)\n",
    "\n",
    "x,t = np.meshgrid(xx,tt)\n",
    "\n",
    "dx = xx[1] - xx[0]\n",
    "dt = tt[1] - tt[0]\n",
    "\n",
    "D = get_D_second_order(Nx+1)\n",
    "plt.matshow(D, cmap='bwr', vmin=-4, vmax=4) "
   ]
  },
  {
   "cell_type": "code",
   "execution_count": null,
   "metadata": {},
   "outputs": [],
   "source": [
    "dx, dt, (1/dx**2 * dt)"
   ]
  },
  {
   "cell_type": "code",
   "execution_count": null,
   "metadata": {
    "scrolled": true
   },
   "outputs": [],
   "source": [
    "u = np.empty((Nt+1,Nx+1))\n",
    "v = np.empty((Nt+1,Nx+1))  ## v = du/dt \n",
    "\n",
    "print(u.shape, v.shape)\n",
    "\n",
    "# set initial conditions at t=0 for position u(t,x)\n",
    "u[0,:] = 0\n",
    "\n",
    "# set initial conditions at t=0 for velocity u'(t,x)\n",
    "v[0,0] = ω \n",
    "v[0,-1] = ω \n",
    "v[0, 1:-1] = 0\n",
    "\n",
    "\n",
    "## set boundary conditions:\n",
    "u[:,0] = np.sin(ω * tt)   \n",
    "u[:,Nx] = - np.sin(ω * tt) "
   ]
  },
  {
   "cell_type": "code",
   "execution_count": null,
   "metadata": {
    "scrolled": true
   },
   "outputs": [],
   "source": [
    "## simplectic method\n",
    "\n",
    "def G(D, u, dx):       \n",
    "    return 1/(dx*dx) * np.matmul(D, u) - np.sin(u)\n",
    "\n",
    "\n",
    "for i in range(0,Nt):\n",
    "    #for n in range(1,Nx):\n",
    "        \n",
    "    tmp = np.empty(Nx+1)  \n",
    "    tmp[:] = u[i, :] + 0.5 * v[i, :] * dt       \n",
    "    v[i+1,:] = v[i, :] + G(D, tmp, dx)* dt\n",
    "    u[i+1,:] = tmp + 0.5 * v[i, :]* dt\n",
    "    \n",
    "    \"\"\"\n",
    "    #print(\"\\n\\n i = {:} \\t t = {:} \\t \".format(i, tt[i]))    \n",
    "    print(\"u[i] = {:}\".format(u[i, :]))\n",
    "    print(\"v[i] = {:}\".format(v[i, :]))    \n",
    "    print(\"v[i] = {:}\".format(v[i, :]))\n",
    "    print(\"v[i+1] = {:}\".format(v[i+1, :]))\n",
    "    print(\"u[i+1] = {:}\".format(u[i+1, :]))\n",
    "    \"\"\"\n",
    "\n"
   ]
  },
  {
   "cell_type": "code",
   "execution_count": null,
   "metadata": {},
   "outputs": [],
   "source": [
    "plot_3D(t,x,u, elev=90., azim=120)\n"
   ]
  },
  {
   "cell_type": "code",
   "execution_count": null,
   "metadata": {},
   "outputs": [],
   "source": [
    "plot_3D(t,x,u, elev=25., azim=220)\n"
   ]
  },
  {
   "cell_type": "markdown",
   "metadata": {},
   "source": [
    "W przypadku three-point stencil wg moich testów najszybciej liczenie pochodnej (dla punktów 1:Nx-1) odbywa się poprzez\n",
    "\n",
    "Du = (u[i, :-2]-2*u[i, 1:-1]+u[i, 2:])/dx2\n",
    "\n",
    "Nieco wolniejsze (i bez możliwości uogólnienia na dokładniejsze schematy), ale bardziej eleganckie jest użycie Du = np.diff(u[i,:], 2)/dx2. Można jeszcze użyć np.convolve, albo mnożenia przez maciersz (w przypadku macierzy dużych powinna to być macierz rzadka), ale to wszystko wolniejsze od zwykłych slice’ów.\n",
    "\n",
    "\n",
    "Druga rzecz to to, że nadpisuje Pani warunki brzegowe w trakcie ewolucji, czego lepiej unikać jeśli nie ma odpowiedniego równania ewolucyjnego na brzegu (np. symetria, periodyczność itp). Jeśli u[:,0] i u[:,Nx] są ustalone, to należy ograniczyć liczenie u i v do v[i+1,1:-1] i u[i+1,1:-1].\n",
    "\n",
    "Kolejna uwaga to to, że jeśli liczy Pani tmp to tam też powinno się uwzględnić warunki brzegowe (wg oznaczeń z pliku) u^{i+1/2}_0 i u^{i+1/2}_Nx, co odpowiada np.sin(ω (tt[i]+0.5​dt)).\n",
    "\n",
    "\n",
    "\n"
   ]
  },
  {
   "cell_type": "code",
   "execution_count": null,
   "metadata": {},
   "outputs": [],
   "source": [
    "u = np.empty((Nt+1,Nx+1))\n",
    "v = np.empty((Nt+1,Nx+1))  ## v = du/dt \n",
    "\n",
    "print(u.shape, v.shape)\n",
    "\n",
    "# set initial conditions at t=0 for position u(t,x)\n",
    "u[0,:] = 0\n",
    "\n",
    "# set initial conditions at t=0 for velocity u'(t,x)\n",
    "v[0,0] = ω \n",
    "v[0,-1] = ω \n",
    "v[0, 1:-1] = 0\n",
    "\n",
    "\n",
    "## set boundary conditions:\n",
    "u[:,0] = np.sin(ω * tt)   \n",
    "u[:,Nx] = - np.sin(ω * tt) "
   ]
  },
  {
   "cell_type": "code",
   "execution_count": null,
   "metadata": {},
   "outputs": [],
   "source": [
    "## simplectic method V2\n",
    "\n",
    "def G(D, u, dx):       \n",
    "    return 1/(dx*dx) * np.matmul(D, u) - np.sin(u)\n",
    "\n",
    "\n",
    "for i in range(0,Nt):\n",
    "    #for n in range(1,Nx):\n",
    "        \n",
    "    tmp = np.empty(Nx+1)  \n",
    "    tmp[:] = u[i, :] + 0.5 * v[i, :] * dt       \n",
    "    \n",
    "    v[i+1,:] = v[i, :] + (u[i, :-2]-2*u[i, 1:-1]+u[i, 2:])/(dx*dx) * dt  \n",
    "    \n",
    "    u[i+1,:] = tmp + 0.5 * v[i, :]* dt\n",
    "    \n",
    " \n"
   ]
  },
  {
   "cell_type": "code",
   "execution_count": null,
   "metadata": {},
   "outputs": [],
   "source": []
  },
  {
   "cell_type": "code",
   "execution_count": null,
   "metadata": {},
   "outputs": [],
   "source": []
  },
  {
   "cell_type": "code",
   "execution_count": null,
   "metadata": {},
   "outputs": [],
   "source": []
  },
  {
   "cell_type": "code",
   "execution_count": null,
   "metadata": {},
   "outputs": [],
   "source": []
  },
  {
   "cell_type": "code",
   "execution_count": null,
   "metadata": {},
   "outputs": [],
   "source": []
  },
  {
   "attachments": {
    "image.png": {
     "image/png": "[encoded data removed]"
    }
   },
   "cell_type": "markdown",
   "metadata": {},
   "source": [
    "### Runge–Kutta–Nyström Methods:\n",
    "\n",
    "for $$y'' = f(x,y,y')$$ initial value problems $y(x_0) = y_0$, $y'(x_0) = y'_0$  we may use Runge-Kutta-Nyström method:\n",
    "\n",
    "$$y_{n+1} = y_n + hy'_n + h^2 \\sum _{i=0}^m \\bar{b}_i k'_i$$\n",
    "\n",
    "$$y'_{n+1} = y'_n + h \\sum _{i=0}^m b_i k'_i$$\n",
    "\n",
    "\n",
    "$$ k'_i = f(x_n + c_i h, y_n + c_i h y'_n + h^2 \\sum _{j=1}^m \\bar{a}_{ij} k'_j)$$\n",
    "\n",
    "$m$  = number of stages\n",
    "\n",
    "\n",
    "![image.png](attachment:image.png)"
   ]
  }
 ],
 "metadata": {
  "kernelspec": {
   "display_name": "Python 3",
   "language": "python",
   "name": "python3"
  },
  "language_info": {
   "codemirror_mode": {
    "name": "ipython",
    "version": 3
   },
   "file_extension": ".py",
   "mimetype": "text/x-python",
   "name": "python",
   "nbconvert_exporter": "python",
   "pygments_lexer": "ipython3",
   "version": "3.8.5"
  }
 },
 "nbformat": 4,
 "nbformat_minor": 4
}
