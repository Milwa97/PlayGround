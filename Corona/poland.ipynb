{
 "cells": [
  {
   "cell_type": "code",
   "execution_count": 1,
   "metadata": {},
   "outputs": [],
   "source": [
    "import pandas as pd\n",
    "import numpy as np \n",
    "import matplotlib.pyplot as plt\n",
    "import scipy.optimize\n",
    "\n",
    "%matplotlib inline\n",
    "\n",
    "kk = 4"
   ]
  },
  {
   "cell_type": "code",
   "execution_count": 2,
   "metadata": {},
   "outputs": [],
   "source": [
    "data_poland = pd.read_csv('poland.csv')\n",
    "data_italy = pd.read_csv('italy.csv')\n",
    "\n",
    "data_poland.dropna(inplace = True)\n",
    "\n",
    "day_poland = np.array(data_poland['day'])\n",
    "deaths_poland = np.array(data_poland['n'])\n",
    "delta_poland = np.array(data_poland['delta'])\n",
    "\n",
    "day_italy = np.array(data_italy['day'])\n",
    "deaths_italy = np.array(data_italy['n'])\n"
   ]
  },
  {
   "cell_type": "code",
   "execution_count": 3,
   "metadata": {
    "scrolled": true
   },
   "outputs": [
    {
     "data": {
      "text/html": [
       "<div>\n",
       "<style scoped>\n",
       "    .dataframe tbody tr th:only-of-type {\n",
       "        vertical-align: middle;\n",
       "    }\n",
       "\n",
       "    .dataframe tbody tr th {\n",
       "        vertical-align: top;\n",
       "    }\n",
       "\n",
       "    .dataframe thead th {\n",
       "        text-align: right;\n",
       "    }\n",
       "</style>\n",
       "<table border=\"1\" class=\"dataframe\">\n",
       "  <thead>\n",
       "    <tr style=\"text-align: right;\">\n",
       "      <th></th>\n",
       "      <th>day</th>\n",
       "      <th>n</th>\n",
       "      <th>delta</th>\n",
       "      <th>daydate</th>\n",
       "      <th>monthdate</th>\n",
       "    </tr>\n",
       "  </thead>\n",
       "  <tbody>\n",
       "    <tr>\n",
       "      <td>0</td>\n",
       "      <td>1</td>\n",
       "      <td>1</td>\n",
       "      <td>1</td>\n",
       "      <td>4</td>\n",
       "      <td>3</td>\n",
       "    </tr>\n",
       "    <tr>\n",
       "      <td>1</td>\n",
       "      <td>2</td>\n",
       "      <td>1</td>\n",
       "      <td>0</td>\n",
       "      <td>5</td>\n",
       "      <td>3</td>\n",
       "    </tr>\n",
       "    <tr>\n",
       "      <td>2</td>\n",
       "      <td>3</td>\n",
       "      <td>5</td>\n",
       "      <td>4</td>\n",
       "      <td>6</td>\n",
       "      <td>3</td>\n",
       "    </tr>\n",
       "    <tr>\n",
       "      <td>3</td>\n",
       "      <td>4</td>\n",
       "      <td>6</td>\n",
       "      <td>1</td>\n",
       "      <td>7</td>\n",
       "      <td>3</td>\n",
       "    </tr>\n",
       "    <tr>\n",
       "      <td>4</td>\n",
       "      <td>5</td>\n",
       "      <td>11</td>\n",
       "      <td>5</td>\n",
       "      <td>8</td>\n",
       "      <td>3</td>\n",
       "    </tr>\n",
       "    <tr>\n",
       "      <td>5</td>\n",
       "      <td>6</td>\n",
       "      <td>17</td>\n",
       "      <td>6</td>\n",
       "      <td>9</td>\n",
       "      <td>3</td>\n",
       "    </tr>\n",
       "    <tr>\n",
       "      <td>6</td>\n",
       "      <td>7</td>\n",
       "      <td>22</td>\n",
       "      <td>5</td>\n",
       "      <td>10</td>\n",
       "      <td>3</td>\n",
       "    </tr>\n",
       "    <tr>\n",
       "      <td>7</td>\n",
       "      <td>8</td>\n",
       "      <td>31</td>\n",
       "      <td>9</td>\n",
       "      <td>11</td>\n",
       "      <td>3</td>\n",
       "    </tr>\n",
       "    <tr>\n",
       "      <td>8</td>\n",
       "      <td>9</td>\n",
       "      <td>51</td>\n",
       "      <td>20</td>\n",
       "      <td>12</td>\n",
       "      <td>3</td>\n",
       "    </tr>\n",
       "    <tr>\n",
       "      <td>9</td>\n",
       "      <td>10</td>\n",
       "      <td>68</td>\n",
       "      <td>17</td>\n",
       "      <td>13</td>\n",
       "      <td>3</td>\n",
       "    </tr>\n",
       "    <tr>\n",
       "      <td>10</td>\n",
       "      <td>11</td>\n",
       "      <td>104</td>\n",
       "      <td>36</td>\n",
       "      <td>14</td>\n",
       "      <td>3</td>\n",
       "    </tr>\n",
       "    <tr>\n",
       "      <td>11</td>\n",
       "      <td>12</td>\n",
       "      <td>125</td>\n",
       "      <td>21</td>\n",
       "      <td>15</td>\n",
       "      <td>3</td>\n",
       "    </tr>\n",
       "    <tr>\n",
       "      <td>12</td>\n",
       "      <td>13</td>\n",
       "      <td>177</td>\n",
       "      <td>52</td>\n",
       "      <td>16</td>\n",
       "      <td>3</td>\n",
       "    </tr>\n",
       "    <tr>\n",
       "      <td>13</td>\n",
       "      <td>14</td>\n",
       "      <td>238</td>\n",
       "      <td>61</td>\n",
       "      <td>17</td>\n",
       "      <td>3</td>\n",
       "    </tr>\n",
       "    <tr>\n",
       "      <td>14</td>\n",
       "      <td>15</td>\n",
       "      <td>287</td>\n",
       "      <td>49</td>\n",
       "      <td>18</td>\n",
       "      <td>3</td>\n",
       "    </tr>\n",
       "    <tr>\n",
       "      <td>15</td>\n",
       "      <td>16</td>\n",
       "      <td>355</td>\n",
       "      <td>68</td>\n",
       "      <td>19</td>\n",
       "      <td>3</td>\n",
       "    </tr>\n",
       "    <tr>\n",
       "      <td>16</td>\n",
       "      <td>17</td>\n",
       "      <td>425</td>\n",
       "      <td>70</td>\n",
       "      <td>20</td>\n",
       "      <td>3</td>\n",
       "    </tr>\n",
       "    <tr>\n",
       "      <td>17</td>\n",
       "      <td>18</td>\n",
       "      <td>536</td>\n",
       "      <td>111</td>\n",
       "      <td>21</td>\n",
       "      <td>3</td>\n",
       "    </tr>\n",
       "    <tr>\n",
       "      <td>18</td>\n",
       "      <td>19</td>\n",
       "      <td>634</td>\n",
       "      <td>98</td>\n",
       "      <td>22</td>\n",
       "      <td>3</td>\n",
       "    </tr>\n",
       "    <tr>\n",
       "      <td>19</td>\n",
       "      <td>20</td>\n",
       "      <td>749</td>\n",
       "      <td>115</td>\n",
       "      <td>23</td>\n",
       "      <td>3</td>\n",
       "    </tr>\n",
       "    <tr>\n",
       "      <td>20</td>\n",
       "      <td>21</td>\n",
       "      <td>901</td>\n",
       "      <td>152</td>\n",
       "      <td>24</td>\n",
       "      <td>3</td>\n",
       "    </tr>\n",
       "    <tr>\n",
       "      <td>21</td>\n",
       "      <td>22</td>\n",
       "      <td>1051</td>\n",
       "      <td>150</td>\n",
       "      <td>25</td>\n",
       "      <td>3</td>\n",
       "    </tr>\n",
       "    <tr>\n",
       "      <td>22</td>\n",
       "      <td>23</td>\n",
       "      <td>1221</td>\n",
       "      <td>170</td>\n",
       "      <td>26</td>\n",
       "      <td>3</td>\n",
       "    </tr>\n",
       "    <tr>\n",
       "      <td>23</td>\n",
       "      <td>24</td>\n",
       "      <td>1389</td>\n",
       "      <td>168</td>\n",
       "      <td>27</td>\n",
       "      <td>3</td>\n",
       "    </tr>\n",
       "    <tr>\n",
       "      <td>24</td>\n",
       "      <td>25</td>\n",
       "      <td>1638</td>\n",
       "      <td>249</td>\n",
       "      <td>28</td>\n",
       "      <td>3</td>\n",
       "    </tr>\n",
       "    <tr>\n",
       "      <td>25</td>\n",
       "      <td>26</td>\n",
       "      <td>1862</td>\n",
       "      <td>224</td>\n",
       "      <td>29</td>\n",
       "      <td>3</td>\n",
       "    </tr>\n",
       "    <tr>\n",
       "      <td>26</td>\n",
       "      <td>27</td>\n",
       "      <td>2055</td>\n",
       "      <td>193</td>\n",
       "      <td>30</td>\n",
       "      <td>3</td>\n",
       "    </tr>\n",
       "    <tr>\n",
       "      <td>27</td>\n",
       "      <td>28</td>\n",
       "      <td>2311</td>\n",
       "      <td>256</td>\n",
       "      <td>31</td>\n",
       "      <td>3</td>\n",
       "    </tr>\n",
       "    <tr>\n",
       "      <td>28</td>\n",
       "      <td>29</td>\n",
       "      <td>2554</td>\n",
       "      <td>243</td>\n",
       "      <td>1</td>\n",
       "      <td>4</td>\n",
       "    </tr>\n",
       "    <tr>\n",
       "      <td>29</td>\n",
       "      <td>30</td>\n",
       "      <td>2946</td>\n",
       "      <td>392</td>\n",
       "      <td>2</td>\n",
       "      <td>4</td>\n",
       "    </tr>\n",
       "    <tr>\n",
       "      <td>30</td>\n",
       "      <td>31</td>\n",
       "      <td>3383</td>\n",
       "      <td>437</td>\n",
       "      <td>3</td>\n",
       "      <td>4</td>\n",
       "    </tr>\n",
       "    <tr>\n",
       "      <td>31</td>\n",
       "      <td>32</td>\n",
       "      <td>3627</td>\n",
       "      <td>438</td>\n",
       "      <td>4</td>\n",
       "      <td>4</td>\n",
       "    </tr>\n",
       "    <tr>\n",
       "      <td>32</td>\n",
       "      <td>33</td>\n",
       "      <td>4102</td>\n",
       "      <td>475</td>\n",
       "      <td>5</td>\n",
       "      <td>4</td>\n",
       "    </tr>\n",
       "    <tr>\n",
       "      <td>33</td>\n",
       "      <td>34</td>\n",
       "      <td>4413</td>\n",
       "      <td>311</td>\n",
       "      <td>6</td>\n",
       "      <td>4</td>\n",
       "    </tr>\n",
       "    <tr>\n",
       "      <td>34</td>\n",
       "      <td>35</td>\n",
       "      <td>4848</td>\n",
       "      <td>435</td>\n",
       "      <td>7</td>\n",
       "      <td>4</td>\n",
       "    </tr>\n",
       "  </tbody>\n",
       "</table>\n",
       "</div>"
      ],
      "text/plain": [
       "    day     n  delta  daydate  monthdate\n",
       "0     1     1      1        4          3\n",
       "1     2     1      0        5          3\n",
       "2     3     5      4        6          3\n",
       "3     4     6      1        7          3\n",
       "4     5    11      5        8          3\n",
       "5     6    17      6        9          3\n",
       "6     7    22      5       10          3\n",
       "7     8    31      9       11          3\n",
       "8     9    51     20       12          3\n",
       "9    10    68     17       13          3\n",
       "10   11   104     36       14          3\n",
       "11   12   125     21       15          3\n",
       "12   13   177     52       16          3\n",
       "13   14   238     61       17          3\n",
       "14   15   287     49       18          3\n",
       "15   16   355     68       19          3\n",
       "16   17   425     70       20          3\n",
       "17   18   536    111       21          3\n",
       "18   19   634     98       22          3\n",
       "19   20   749    115       23          3\n",
       "20   21   901    152       24          3\n",
       "21   22  1051    150       25          3\n",
       "22   23  1221    170       26          3\n",
       "23   24  1389    168       27          3\n",
       "24   25  1638    249       28          3\n",
       "25   26  1862    224       29          3\n",
       "26   27  2055    193       30          3\n",
       "27   28  2311    256       31          3\n",
       "28   29  2554    243        1          4\n",
       "29   30  2946    392        2          4\n",
       "30   31  3383    437        3          4\n",
       "31   32  3627    438        4          4\n",
       "32   33  4102    475        5          4\n",
       "33   34  4413    311        6          4\n",
       "34   35  4848    435        7          4"
      ]
     },
     "execution_count": 3,
     "metadata": {},
     "output_type": "execute_result"
    }
   ],
   "source": [
    "data_poland"
   ]
  },
  {
   "cell_type": "code",
   "execution_count": 4,
   "metadata": {},
   "outputs": [],
   "source": [
    "def func_expo(x, a, b):\n",
    "    return a * np.exp(b * x)\n",
    "\n",
    "def func_logistic(x, x0, k, V):\n",
    "    return V/(1+np.exp(k*(x-x0)))\n",
    "\n",
    "def func_geometric(x,a,n):\n",
    "    return a*x**n"
   ]
  },
  {
   "cell_type": "code",
   "execution_count": 5,
   "metadata": {
    "scrolled": true
   },
   "outputs": [
    {
     "name": "stdout",
     "output_type": "stream",
     "text": [
      "y = a * np.exp(b * x), a= 69.122106 +- 6.937923 b = 0.123209 +- 0.003168\n"
     ]
    }
   ],
   "source": [
    "popt, pcov = scipy.optimize.curve_fit(func_expo,  day_poland,  deaths_poland)\n",
    "perr = np.sqrt(np.diag(pcov))\n",
    "\n",
    "print(\"y = a * np.exp(b * x), a= {:2f} +- {:2f} b = {:2f} +- {:2f}\".format( popt[0], perr[0],  popt[1], perr[1] )  )"
   ]
  },
  {
   "cell_type": "code",
   "execution_count": 6,
   "metadata": {},
   "outputs": [
    {
     "name": "stdout",
     "output_type": "stream",
     "text": [
      " V/(1+np.exp(k*(x-x0)))  x0= 37.247882 +- 0.563191 k = -0.177213 +- 0.004475  V = 8314.197351 +- 422.136895\n"
     ]
    }
   ],
   "source": [
    "popt, pcov = scipy.optimize.curve_fit(func_logistic,  day_poland+kk,  deaths_poland)\n",
    "perr = np.sqrt(np.diag(pcov))\n",
    "\n",
    "print(\" V/(1+np.exp(k*(x-x0)))  x0= {:2f} +- {:2f} k = {:2f} +- {:2f}  V = {:2f} +- {:2f}\".format( popt[0], perr[0],  popt[1], perr[1], popt[2], perr[2] )  )"
   ]
  },
  {
   "cell_type": "code",
   "execution_count": 7,
   "metadata": {
    "scrolled": true
   },
   "outputs": [
    {
     "data": {
      "text/plain": [
       "array([ 3.72478821e+01, -1.77213019e-01,  8.31419735e+03])"
      ]
     },
     "execution_count": 7,
     "metadata": {},
     "output_type": "execute_result"
    }
   ],
   "source": [
    "poland_parameters_logistic = scipy.optimize.curve_fit(func_logistic,  day_poland+kk,  deaths_poland)[0]\n",
    "poland_parameters_expo = scipy.optimize.curve_fit(func_expo,  day_poland,  deaths_poland)[0]\n",
    "\n",
    "poland_parameters_logistic"
   ]
  },
  {
   "cell_type": "code",
   "execution_count": 8,
   "metadata": {
    "scrolled": true
   },
   "outputs": [
    {
     "data": {
      "image/png": "[encoded data removed]",
      "text/plain": [
       "<Figure size 1080x288 with 2 Axes>"
      ]
     },
     "metadata": {
      "needs_background": "light"
     },
     "output_type": "display_data"
    }
   ],
   "source": [
    "x = np.linspace(0,80,101)\n",
    "max_y = 12000\n",
    "\n",
    "a = poland_parameters_expo[0]\n",
    "b = poland_parameters_expo[1]\n",
    "y_expo = func_expo(x, a, b)\n",
    "\n",
    "x0 = poland_parameters_logistic[0]\n",
    "k = poland_parameters_logistic[1]\n",
    "V = poland_parameters_logistic[2]\n",
    "\n",
    "y_logistic = func_logistic(x+kk,x0,k,V)\n",
    "\n",
    "fig, axs = plt.subplots(ncols=2, figsize = (15,4))\n",
    "\n",
    "\n",
    "axs[0].scatter(day_poland, deaths_poland, label=\"data points\", color = \"purple\")\n",
    "axs[0].plot(x, y_expo, label=\"exponential fit\", color = 'gray')\n",
    "\n",
    "axs[1].scatter(day_poland, deaths_poland, label=\"data points\", color = \"purple\")\n",
    "axs[1].plot(x, y_logistic, label=\"logistic function fit\", color = 'gray')\n",
    "axs[1].axhline(y=V, color='black', linestyle = '--')\n",
    "\n",
    "axs[1].axvline(x=70, color='red', linestyle = '--')\n",
    "\n",
    "\n",
    "for ax in axs:\n",
    "    ax.set_xlabel('day')\n",
    "    ax.set_ylabel('number of infected')\n",
    "    ax.set_ylim(0,max_y) \n",
    "    ax.legend()\n",
    "    ax.grid(color = 'gray', alpha = 0.4)\n",
    "\n",
    "plt.show()"
   ]
  },
  {
   "cell_type": "code",
   "execution_count": 9,
   "metadata": {
    "scrolled": true
   },
   "outputs": [
    {
     "data": {
      "image/png": "[encoded data removed]",
      "text/plain": [
       "<Figure size 864x432 with 2 Axes>"
      ]
     },
     "metadata": {
      "needs_background": "light"
     },
     "output_type": "display_data"
    }
   ],
   "source": [
    "w = 0.8\n",
    "\n",
    "fig, axs = plt.subplots( nrows =2, figsize=(12,6))\n",
    "\n",
    "rects = axs[0].bar( day_poland, delta_poland, width= w, label='new cases', color = 'Purple')\n",
    "rects_log = axs[1].bar( day_poland, delta_poland, width= w, label='new cases', color = 'Purple', log=True)\n",
    "\n",
    "for ax in axs:\n",
    "    ax.set_xlabel('number of days since the first case')\n",
    "    ax.set_ylabel('new cases')\n",
    "    ax.set_xticks(day_poland)\n",
    "\n",
    "fig.tight_layout()\n",
    "plt.show()"
   ]
  },
  {
   "cell_type": "code",
   "execution_count": 10,
   "metadata": {},
   "outputs": [
    {
     "name": "stdout",
     "output_type": "stream",
     "text": [
      "y = a x^n, a= 0.102614 +- 0.063702 n = 2.368253 +- 0.182630\n"
     ]
    }
   ],
   "source": [
    "popt, pcov =scipy.optimize.curve_fit(func_geometric,  day_poland[:],  delta_poland[:])\n",
    "perr = np.sqrt(np.diag(pcov))\n",
    "\n",
    "print(\"y = a x^n, a= {:2f} +- {:2f} n = {:2f} +- {:2f}\".format( popt[0], perr[0],  popt[1], perr[1] )  )"
   ]
  },
  {
   "cell_type": "code",
   "execution_count": 11,
   "metadata": {},
   "outputs": [
    {
     "data": {
      "text/plain": [
       "2.3682531641698144"
      ]
     },
     "execution_count": 11,
     "metadata": {},
     "output_type": "execute_result"
    }
   ],
   "source": [
    "poland_parameters_geometric = scipy.optimize.curve_fit(func_geometric,  day_poland,  delta_poland)[0]\n",
    "a = poland_parameters_geometric[0]\n",
    "n = poland_parameters_geometric[1]\n",
    "n"
   ]
  },
  {
   "cell_type": "code",
   "execution_count": 12,
   "metadata": {},
   "outputs": [
    {
     "data": {
      "text/plain": [
       "array([323.1486223 , 349.24264901, 376.51425381, 404.97728667,\n",
       "       434.64532674, 465.53169552, 497.64946922, 531.01149   ,\n",
       "       565.63037658, 601.51853396, 638.68816253])"
      ]
     },
     "execution_count": 12,
     "metadata": {},
     "output_type": "execute_result"
    }
   ],
   "source": [
    "xx = np.linspace(30,40,11).astype(int)\n",
    "yy = func_geometric(xx,a,n)\n",
    "yy"
   ]
  },
  {
   "cell_type": "code",
   "execution_count": 13,
   "metadata": {},
   "outputs": [
    {
     "data": {
      "image/png": "[encoded data removed]",
      "text/plain": [
       "<Figure size 864x432 with 2 Axes>"
      ]
     },
     "metadata": {
      "needs_background": "light"
     },
     "output_type": "display_data"
    }
   ],
   "source": [
    "x = np.linspace(0,40,51)\n",
    "y_geometric = func_geometric(x,a,n)\n",
    "\n",
    "fig, axs = plt.subplots( ncols =2, figsize=(12,6))\n",
    "\n",
    "for ax in axs:\n",
    "    ax.scatter(day_poland, delta_poland, color = 'purple')\n",
    "    ax.plot(x,y_geometric, color = 'gray')\n",
    "    ax.set_xlabel('day')\n",
    "    ax.set_ylabel('new cases')\n",
    "    ax.grid(color = 'gray', alpha = 0.4)\n",
    "    \n",
    "axs[1].set_yscale('symlog')  #\"linear\", \"log\", \"symlog\", \"logit\", ...}\n",
    "axs[1].set_xscale('log') \n"
   ]
  },
  {
   "cell_type": "code",
   "execution_count": 14,
   "metadata": {},
   "outputs": [
    {
     "ename": "NameError",
     "evalue": "name 'STOOP' is not defined",
     "output_type": "error",
     "traceback": [
      "\u001b[0;31m---------------------------------------------------------------------------\u001b[0m",
      "\u001b[0;31mNameError\u001b[0m                                 Traceback (most recent call last)",
      "\u001b[0;32m<ipython-input-14-ae7180e1f01e>\u001b[0m in \u001b[0;36m<module>\u001b[0;34m\u001b[0m\n\u001b[0;32m----> 1\u001b[0;31m \u001b[0mSTOOP\u001b[0m\u001b[0;34m\u001b[0m\u001b[0;34m\u001b[0m\u001b[0m\n\u001b[0m",
      "\u001b[0;31mNameError\u001b[0m: name 'STOOP' is not defined"
     ]
    }
   ],
   "source": [
    "STOOP"
   ]
  },
  {
   "cell_type": "code",
   "execution_count": null,
   "metadata": {},
   "outputs": [],
   "source": [
    "italy_parameters_expo = scipy.optimize.curve_fit(func_expo,  day_italy,  deaths_italy)[0]\n",
    "italy_parameters_logistic = scipy.optimize.curve_fit(func_logistic,  day_italy,  deaths_italy, method = 'trf', absolute_sigma=False)\n",
    "italy_parameters_logistic\n"
   ]
  },
  {
   "cell_type": "code",
   "execution_count": null,
   "metadata": {},
   "outputs": [],
   "source": [
    "x = np.linspace(0,60,101)\n",
    "max_y = 5500\n",
    "\n",
    "a = italy_parameters_expo[0]\n",
    "b = italy_parameters_expo[1]\n",
    "y_expo = func_expo(x, a, b)\n",
    "\n",
    "x0 = italy_parameters_logistic[0]\n",
    "k = italy_parameters_logistic[1]\n",
    "V = italy_parameters_logistic[2]\n",
    "y_logistic = func_logistic(x,x0,k,V)\n",
    "\n",
    "fig, axs = plt.subplots(ncols=2, figsize = (15,4))\n",
    "\n",
    "\n",
    "axs[0].scatter(day_italy, deaths_italy, label=\"data points\", color = \"purple\")\n",
    "axs[0].plot(x, y_expo, label=\"exponential fit\", color = 'gray')\n",
    "\n",
    "axs[1].scatter(day_italy, deaths_italy, label=\"data points\", color = \"purple\")\n",
    "axs[1].plot(x, y_logistic, label=\"logistic function fit\", color = 'gray')\n",
    "axs[1].axhline(y=V, color='black', linestyle = '--')\n",
    "\n",
    "for ax in axs:\n",
    "    ax.set_xlabel('day')\n",
    "    ax.set_ylabel('number of infected')\n",
    "    ax.set_ylim(0,max_y) \n",
    "    ax.legend()\n",
    "    ax.grid(color = 'gray', alpha = 0.4)\n",
    "\n",
    "plt.show()"
   ]
  },
  {
   "cell_type": "code",
   "execution_count": null,
   "metadata": {},
   "outputs": [],
   "source": []
  }
 ],
 "metadata": {
  "kernelspec": {
   "display_name": "Python 3",
   "language": "python",
   "name": "python3"
  },
  "language_info": {
   "codemirror_mode": {
    "name": "ipython",
    "version": 3
   },
   "file_extension": ".py",
   "mimetype": "text/x-python",
   "name": "python",
   "nbconvert_exporter": "python",
   "pygments_lexer": "ipython3",
   "version": "3.7.4"
  }
 },
 "nbformat": 4,
 "nbformat_minor": 2
}
