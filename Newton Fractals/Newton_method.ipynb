{
 "cells": [
  {
   "cell_type": "code",
   "execution_count": 1,
   "metadata": {},
   "outputs": [],
   "source": [
    "import numpy as np\n",
    "import matplotlib.pyplot as plt\n",
    "from math import isclose"
   ]
  },
  {
   "cell_type": "markdown",
   "metadata": {},
   "source": [
    "# Newton method in 1 D\n",
    "finding roots of f(x). We start with finding some $x_0$. Then we find better x's using the following formula:\n",
    "\n",
    "$$x_{n+1} = x_n - \\frac{f(x_n)}{f'(x_n)}$$"
   ]
  },
  {
   "cell_type": "code",
   "execution_count": 2,
   "metadata": {},
   "outputs": [],
   "source": [
    "## sample functions:\n",
    "\n",
    "f1 = np.sin\n",
    "f2 = np.cos\n",
    "f3 = np.exp\n",
    "\n",
    "def f4(x):\n",
    "    return np.exp(-x)\n",
    "\n",
    "def f5(x,p):\n",
    "    return x**p\n",
    "\n",
    "def f6(x):\n",
    "    return x-np.cos(x)\n",
    "\n",
    "def f7(x, alpha):\n",
    "    return np.exp(alpha*x)"
   ]
  },
  {
   "cell_type": "code",
   "execution_count": 3,
   "metadata": {},
   "outputs": [],
   "source": [
    "def iterative_Newton_method(f, x, h, n_max, *args):\n",
    "    \n",
    "    for n in range(n_max):\n",
    "        \n",
    "        f_x = f(x, *args)\n",
    "        df_x = (f(x+h, *args)-f(x, *args))/h \n",
    "        \n",
    "        x -= f_x/df_x\n",
    "        \n",
    "        print(f'{n:5d}, {x: 12.10f}, {f_x: 12.10e}, {df_x: 12.10e}')\n",
    "        \n",
    "        \n",
    "        if isclose(f_x, 0.0, abs_tol=1e-10):\n",
    "            break"
   ]
  },
  {
   "cell_type": "markdown",
   "metadata": {},
   "source": [
    "# Hyperparameters"
   ]
  },
  {
   "cell_type": "code",
   "execution_count": 4,
   "metadata": {},
   "outputs": [],
   "source": [
    "h = 1e-10\n",
    "x = 1\n",
    "n_max = 500"
   ]
  },
  {
   "cell_type": "markdown",
   "metadata": {},
   "source": [
    "### Newton method: $f(x) = e^{-x}$"
   ]
  },
  {
   "cell_type": "code",
   "execution_count": 5,
   "metadata": {},
   "outputs": [
    {
     "name": "stdout",
     "output_type": "stream",
     "text": [
      "    0,  1.9999995257,  3.6787944117e-01, -3.6787961566e-01\n",
      "    1,  2.9999994769,  1.3533534743e-01, -1.3533535403e-01\n",
      "    2,  3.9999989856,  4.9787094413e-02, -4.9787118872e-02\n",
      "    3,  4.9999987662,  1.8315657468e-02, -1.8315661487e-02\n",
      "    4,  5.9999992266,  6.7379553127e-03, -6.7379522101e-03\n",
      "    5,  7.0000005910,  2.4787540937e-03, -2.4787507116e-03\n",
      "    6,  7.9999995984,  9.1188142660e-04, -9.1188233180e-04\n",
      "    7,  8.9999989081,  3.3546276264e-04, -3.3546299419e-04\n",
      "    8,  9.9999995924,  1.2340993884e-04, -1.2340985438e-04\n",
      "    9,  10.9999995645,  4.5399948266e-05, -4.5399949533e-05\n",
      "   10,  11.9999983773,  1.6701708064e-05, -1.6701727891e-05\n",
      "   11,  12.9999980176,  6.1442223233e-06, -6.1442245335e-06\n",
      "   12,  13.9999984853,  2.2603338878e-06, -2.2603328307e-06\n",
      "   13,  14.9999983072,  8.3152997863e-07, -8.3153012674e-07\n",
      "   14,  15.9999985223,  3.0590283834e-07, -3.0590277253e-07\n",
      "   15,  16.9999985177,  1.1253534101e-07, -1.1253534153e-07\n",
      "   16,  18.0000171036,  4.1399438556e-08, -4.1398669123e-08\n",
      "   17,  19.0000345298,  1.5229719259e-08, -1.5229453868e-08\n",
      "   18,  20.0000524534,  5.6026029776e-09, -5.6025025606e-09\n",
      "   19,  21.0000689621,  2.0610455108e-09, -2.0610114860e-09\n",
      "   20,  22.0000862482,  7.5820375363e-10, -7.5819064754e-10\n",
      "   21,  23.0001030522,  2.7892275168e-10, -2.7891806472e-10\n",
      "   22,  24.0001202627,  1.0260822177e-10, -1.0260645586e-10\n",
      "   23,  25.0001382832,  3.7746805637e-11, -3.7746125432e-11\n",
      "CPU times: user 0 ns, sys: 1.9 ms, total: 1.9 ms\n",
      "Wall time: 1.52 ms\n"
     ]
    }
   ],
   "source": [
    "%%time\n",
    "iterative_Newton_method(f4, x, h, n_max)"
   ]
  },
  {
   "cell_type": "markdown",
   "metadata": {},
   "source": [
    "### Newton method: $f(x) = x^p$"
   ]
  },
  {
   "cell_type": "code",
   "execution_count": 6,
   "metadata": {},
   "outputs": [
    {
     "name": "stdout",
     "output_type": "stream",
     "text": [
      "    0,  0.8000000165,  1.0000000000e+00,  5.0000004137e+00\n",
      "    1,  0.6400000514,  3.2768003389e-01,  2.0480006580e+00\n",
      "    2,  0.5120000615,  1.0737422552e-01,  8.3886120272e-01\n",
      "    3,  0.4096000588,  3.5184393203e-02,  3.4359758094e-01\n",
      "    4,  0.3276800622,  1.1529223320e-02,  1.4073759519e-01\n",
      "    5,  0.2621440544,  3.7778967710e-03,  5.7646123118e-02\n",
      "    6,  0.2097152446,  1.2379413248e-03,  2.3611852491e-02\n",
      "    7,  0.1677721996,  4.0564862321e-04,  9.6714156865e-03\n",
      "    8,  0.1342177639,  1.3292295642e-04,  3.9614123613e-03\n",
      "    9,  0.1073742129,  4.3556201180e-05,  1.6225946097e-03\n",
      "   10,  0.0858993690,  1.4272497173e-05,  6.6461471201e-04\n",
      "   11,  0.0687194944,  4.6768115209e-06,  2.7222617403e-04\n",
      "   12,  0.0549755950,  1.5324975147e-06,  1.1150383646e-04\n",
      "   13,  0.0439804762,  5.0216876069e-07,  4.5671972047e-05\n",
      "   14,  0.0351843811,  1.6455066236e-07,  1.8707240124e-05\n",
      "   15,  0.0281475051,  5.3919962389e-08,  7.6624857619e-06\n",
      "   16,  0.0225180042,  1.7668493872e-08,  3.1385542259e-06\n",
      "   17,  0.0180144034,  5.7896122055e-09,  1.2855518385e-06\n",
      "   18,  0.0144115228,  1.8971401783e-09,  5.2656204762e-07\n",
      "   19,  0.0115292183,  6.2165491514e-10,  2.1567981738e-07\n",
      "   20,  0.0092233747,  2.0370388575e-10,  8.8342454375e-08\n",
      "   21,  0.0073786998,  6.6749690393e-11,  3.6185069921e-08\n"
     ]
    }
   ],
   "source": [
    "p=5\n",
    "iterative_Newton_method(f5, x, h, n_max, p)"
   ]
  },
  {
   "cell_type": "markdown",
   "metadata": {},
   "source": [
    "### Newton method: $f(x) = x-cos(x)$"
   ]
  },
  {
   "cell_type": "code",
   "execution_count": 7,
   "metadata": {},
   "outputs": [
    {
     "name": "stdout",
     "output_type": "stream",
     "text": [
      "    0,  0.7503639268,  4.5969769413e-01,  1.8414714198e+00\n",
      "    1,  0.7391128887,  1.8923173001e-02,  1.6819046156e+00\n",
      "    2,  0.7390851334,  4.6452121994e-05,  1.6736323438e+00\n",
      "    3,  0.7390851332,  2.7915836309e-10,  1.6736123598e+00\n",
      "    4,  0.7390851332,  0.0000000000e+00,  1.6736123598e+00\n"
     ]
    }
   ],
   "source": [
    "iterative_Newton_method(f6, x, h, n_max)"
   ]
  }
 ],
 "metadata": {
  "kernelspec": {
   "display_name": "Python 3",
   "language": "python",
   "name": "python3"
  },
  "language_info": {
   "codemirror_mode": {
    "name": "ipython",
    "version": 3
   },
   "file_extension": ".py",
   "mimetype": "text/x-python",
   "name": "python",
   "nbconvert_exporter": "python",
   "pygments_lexer": "ipython3",
   "version": "3.8.3"
  }
 },
 "nbformat": 4,
 "nbformat_minor": 4
}
